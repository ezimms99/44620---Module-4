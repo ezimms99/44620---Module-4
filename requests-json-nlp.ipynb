{
 "cells": [
  {
   "cell_type": "markdown",
   "metadata": {
    "tags": []
   },
   "source": [
    "# Web Mining and Applied NLP (44-620)\n",
    "\n",
    "## Requests, JSON, and NLP\n",
    "\n",
    "### Student Name: Emily Zimmerman\n",
    "\n",
    "Perform the tasks described in the Markdown cells below.  When you have completed the assignment make sure your code cells have all been run (and have output beneath them) and ensure you have committed and pushed ALL of your changes to your assignment repository.\n",
    "\n",
    "Make sure you have [installed spaCy and its pipeline](https://spacy.io/usage#quickstart) and [spaCyTextBlob](https://spacy.io/universe/project/spacy-textblob)\n",
    "\n",
    "Every question that requires you to write code will have a code cell underneath it; you may either write your entire solution in that cell or write it in a python file (`.py`), then import and run the appropriate code to answer the question.\n",
    "\n",
    "This assignment requires that you write additional files (either JSON or pickle files); make sure to submit those files in your repository as well."
   ]
  },
  {
   "cell_type": "markdown",
   "metadata": {},
   "source": [
    "1. The following code accesses the [lyrics.ovh](https://lyricsovh.docs.apiary.io/#reference/0/lyrics-of-a-song/search) public api, searches for the lyrics of a song, and stores it in a dictionary object.  Write the resulting json to a file (either a JSON file or a pickle file; you choose). You will read in the contents of this file for future questions so we do not need to frequently access the API."
   ]
  },
  {
   "cell_type": "code",
   "execution_count": 104,
   "metadata": {
    "tags": []
   },
   "outputs": [],
   "source": [
    "import requests\n",
    "import json\n",
    "\n",
    "ARTIST='Edgar Allan Poe'\n",
    "SONG = 'A Dream Within A Dream'\n",
    "URL = f'https://poetrydb.org/author,title/{ARTIST};{SONG}'\n",
    "result = json.loads(requests.get(URL).text)\n",
    "\n",
    "with open(\"lyrics.json\", \"w\") as outfile:\n",
    "    json.dump(result, outfile)"
   ]
  },
  {
   "cell_type": "markdown",
   "metadata": {},
   "source": [
    "2. Read in the contents of your file.  Print the lyrics of the song (not the entire dictionary!) and use spaCyTextBlob to perform sentiment analysis on the lyrics.  Print the polarity score of the sentiment analysis.  Given that the range of the polarity score is `[-1.0,1.0]` which corresponds to how positive or negative the text in question is, do you think the lyrics have a more positive or negative connotaion?  Answer this question in a comment in your code cell."
   ]
  },
  {
   "cell_type": "code",
   "execution_count": 115,
   "metadata": {},
   "outputs": [
    {
     "name": "stdout",
     "output_type": "stream",
     "text": [
      "Take this kiss upon the brow! And, in parting from you now, Thus much let me avow-- You are not wrong, who deem That my days have been a dream: Yet if hope has flown away In a night, or in a day, In a vision or in none, Is it therefore the less _gone_? _All_ that we see or seem Is but a dream within a dream.  I stand amid the roar Of a surf-tormented shore, And I hold within my hand Grains of the golden sand-- How few! yet how they creep Through my fingers to the deep While I weep--while I weep! O God! can I not grasp Them with a tighter clasp? O God! can I not save _One_ from the pitiless wave? Is _all_ that we see or seem But a dream within a dream?\n",
      "0.055555555555555546\n"
     ]
    }
   ],
   "source": [
    "import requests\n",
    "import json\n",
    "import spacy\n",
    "from spacytextblob.spacytextblob import SpacyTextBlob\n",
    "import pickle\n",
    "\n",
    "\n",
    "file = open('lyrics','r')\n",
    "song = json.load(file)\n",
    "lyrics = song[0]['lines']\n",
    "string = ' '.join(lyrics)\n",
    "print(string)\n",
    "\n",
    "\n",
    "nlp = spacy.load('en_core_web_sm')\n",
    "nlp.add_pipe(\"spacytextblob\")\n",
    "doc = nlp(string)\n",
    "print(doc._.blob.polarity)\n",
    "\n",
    "#QUESTION ANSWER:\n",
    "#I think the lyrics have more positive connotation, the polarity score is above 0 and upon reading the text, the words seem very postitive. \n"
   ]
  },
  {
   "cell_type": "markdown",
   "metadata": {},
   "source": [
    "3. Write a function that takes an artist, song, and filename, accesses the lyrics.ovh api to get the song lyrics, and writes the results to the specified filename.  Test this function by getting the lyrics to any four songs of your choice and storing them in different files."
   ]
  },
  {
   "cell_type": "code",
   "execution_count": 64,
   "metadata": {},
   "outputs": [
    {
     "name": "stdout",
     "output_type": "stream",
     "text": [
      "Enter the artists (author) name:\n"
     ]
    },
    {
     "name": "stdin",
     "output_type": "stream",
     "text": [
      " Artist\n"
     ]
    },
    {
     "name": "stdout",
     "output_type": "stream",
     "text": [
      "Enter the song (poem) name:\n"
     ]
    },
    {
     "name": "stdin",
     "output_type": "stream",
     "text": [
      " Song\n"
     ]
    },
    {
     "name": "stdout",
     "output_type": "stream",
     "text": [
      "Enter the filename\n"
     ]
    },
    {
     "name": "stdin",
     "output_type": "stream",
     "text": [
      " Name\n"
     ]
    },
    {
     "name": "stdout",
     "output_type": "stream",
     "text": [
      "{'status': 404, 'reason': 'Not found'}\n"
     ]
    }
   ],
   "source": [
    "import requests\n",
    "import json\n",
    "\n",
    "print(\"Enter the artists (author) name:\")\n",
    "ARTIST = input()\n",
    "print(\"Enter the song (poem) name:\")\n",
    "SONG = input()\n",
    "print(\"Enter the filename\")\n",
    "FILENAME = input()\n",
    "\n",
    "def poem(ARTIST, SONG, FILENAME):\n",
    "    URL = f'https://poetrydb.org/author,title/{ARTIST};{SONG}'\n",
    "    result = json.loads(requests.get(URL).text)\n",
    "    print(result)\n",
    "    with open(FILENAME, \"w\") as outfile:\n",
    "        json.dump(result, outfile)\n",
    "    \n",
    "poem(ARTIST, SONG, FILENAME)"
   ]
  },
  {
   "cell_type": "markdown",
   "metadata": {},
   "source": [
    "4. Write a function that takes the name of a file that contains song lyrics, loads the file, performs sentiment analysis, and returns the polarity score.  Use this function to print the polarity scores (with the name of the song) of the three files you created in question 3.  Does the reported polarity match your understanding of the song's lyrics? Why or why not do you think that might be?  Answer the questions in either a comment in the code cell or a markdown cell under the code cell."
   ]
  },
  {
   "cell_type": "code",
   "execution_count": 120,
   "metadata": {},
   "outputs": [
    {
     "name": "stdout",
     "output_type": "stream",
     "text": [
      "Enter the file name:\n"
     ]
    },
    {
     "name": "stdin",
     "output_type": "stream",
     "text": [
      " DowsonSong\n"
     ]
    },
    {
     "name": "stdout",
     "output_type": "stream",
     "text": [
      "Enter song name:\n"
     ]
    },
    {
     "name": "stdin",
     "output_type": "stream",
     "text": [
      " song\n"
     ]
    },
    {
     "name": "stdout",
     "output_type": "stream",
     "text": [
      "Polarity of song\n",
      "0.22500000000000003\n"
     ]
    }
   ],
   "source": [
    "import requests\n",
    "import json\n",
    "import spacy\n",
    "\n",
    "print(\"Enter the file name:\")\n",
    "FILENAME = input()\n",
    "print(\"Enter song name:\")\n",
    "song = input()\n",
    "\n",
    "def polarity(FILENAME):\n",
    "    file = open(FILENAME,'r')\n",
    "    song = json.load(file)\n",
    "    lyrics = song[0]['lines']\n",
    "    string = ' '.join(lyrics)\n",
    "    nlp = spacy.load('en_core_web_sm')\n",
    "    nlp.add_pipe(\"spacytextblob\")\n",
    "    doc = nlp(string)\n",
    "    print(doc._.blob.polarity)\n",
    "\n",
    "print(\"Polarity of\", song)\n",
    "polarity(FILENAME)"
   ]
  },
  {
   "cell_type": "markdown",
   "metadata": {},
   "source": [
    "The Shelley song (polarity of -.02) did match my understanding of the lyrics however I was surprised that it was closer to 0 and not closer to -1. \n",
    "The Wheatley song (polarity of (0.18) did not at all match my understanding of the lyrics, there were a lot of evil lyrics. \n",
    "The Dowson song (polarity of 0.225) was a bit lower than I expected, as the poem seems to be a love poem. \n",
    "I think that the connotation of words can affect how the polarity reads them because polarity cannot read context."
   ]
  }
 ],
 "metadata": {
  "kernelspec": {
   "display_name": "Python 3 (ipykernel)",
   "language": "python",
   "name": "python3"
  },
  "language_info": {
   "codemirror_mode": {
    "name": "ipython",
    "version": 3
   },
   "file_extension": ".py",
   "mimetype": "text/x-python",
   "name": "python",
   "nbconvert_exporter": "python",
   "pygments_lexer": "ipython3",
   "version": "3.9.12"
  }
 },
 "nbformat": 4,
 "nbformat_minor": 4
}
